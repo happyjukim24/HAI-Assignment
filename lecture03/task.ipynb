{
 "cells": [
  {
   "cell_type": "code",
   "execution_count": 1,
   "metadata": {},
   "outputs": [
    {
     "name": "stdout",
     "output_type": "stream",
     "text": [
      "기울기 m =  3.3112902375916673\n",
      "절편 c =  66.46288575550228\n",
      "학습된 모델: y =  3.3112902375916673 x +  66.46288575550228\n",
      "학습 시간이 6.5시간일 때 예상 성적은  87.98627229984812 입니다.\n"
     ]
    }
   ],
   "source": [
    "import numpy as np\n",
    "import matplotlib as plt\n",
    "\n",
    "x = np.array([1, 2, 3, 4, 5, 6, 7, 8, 9, 10, 6, 12, 5, 8, 10])\n",
    "y = np.array([63, 68, 76, 83, 89, 94, 97, 99, 100, 100, 88, 96, 80 , 86, 97])\n",
    "\n",
    "m = 2\n",
    "c = 50\n",
    "alpha = 0.005\n",
    "epochs = 2000\n",
    "\n",
    "n = len(x)\n",
    "loss_history = []\n",
    "\n",
    "for i in range(epochs):\n",
    "    y_pred = m * x + c\n",
    "    error = y - y_pred\n",
    "\n",
    "    loss = np.mean(error ** 2)\n",
    "    loss_history.append(loss)\n",
    "\n",
    "    dm = -2 * np.mean(x * error)\n",
    "    dc = -2 * np.mean(error)\n",
    "\n",
    "    m -= alpha * dm\n",
    "    c -= alpha * dc\n",
    "\n",
    "print(\"기울기 m = \", m)\n",
    "print(\"절편 c = \", c)\n",
    "print(\"학습된 모델: y = \", m, \"x + \", c)\n",
    "\n",
    "p = 6.5 * m + c\n",
    "print(\"학습 시간이 6.5시간일 때 예상 성적은 \", p, \"입니다.\")\n"
   ]
  }
 ],
 "metadata": {
  "kernelspec": {
   "display_name": "Python 3",
   "language": "python",
   "name": "python3"
  },
  "language_info": {
   "codemirror_mode": {
    "name": "ipython",
    "version": 3
   },
   "file_extension": ".py",
   "mimetype": "text/x-python",
   "name": "python",
   "nbconvert_exporter": "python",
   "pygments_lexer": "ipython3",
   "version": "3.10.16"
  }
 },
 "nbformat": 4,
 "nbformat_minor": 2
}
