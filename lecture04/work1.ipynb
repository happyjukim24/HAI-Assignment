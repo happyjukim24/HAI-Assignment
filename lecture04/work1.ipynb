{
 "cells": [
  {
   "cell_type": "code",
   "execution_count": null,
   "id": "de69e14d",
   "metadata": {},
   "outputs": [
    {
     "name": "stdout",
     "output_type": "stream",
     "text": [
      "k값별 정확도:\n",
      "k = 1 -> 정확도: 0.95\n",
      "k = 2 -> 정확도: 0.92\n",
      "k = 3 -> 정확도: 0.92\n",
      "k = 4 -> 정확도: 0.92\n",
      "k = 5 -> 정확도: 0.97\n",
      "k = 6 -> 정확도: 0.92\n",
      "k = 7 -> 정확도: 0.92\n",
      "k = 8 -> 정확도: 0.92\n",
      "k = 9 -> 정확도: 0.95\n",
      "k = 10 -> 정확도: 0.92\n",
      "\n",
      "최적의 k값은: 5 (정확도: 0.97)\n"
     ]
    }
   ],
   "source": [
    "import matplotlib.pyplot as plt\n",
    "import numpy as np\n",
    "import pandas as pd\n",
    "from sklearn.datasets import load_iris\n",
    "\n",
    "iris = load_iris()\n",
    "x = iris.data[:130, [2, 3]]\n",
    "y = iris.target[:130]\n",
    "\n",
    "def euclidean_distance(x1, x2):\n",
    "    return np.sqrt(np.sum((x1 - x2)**2))\n",
    "\n",
    "def knn_predict(x, X_train, y_train, k):\n",
    "    distances = [euclidean_distance(x, xi) for xi in X_train]\n",
    "    k_indices = np.argsort(distances)[:k]\n",
    "    k_labels = y_train[k_indices]\n",
    "    labels, counts = np.unique(k_labels, return_counts=True)\n",
    "    return labels[np.argmax(counts)]\n",
    "\n",
    "def compute_accuracy(X_val, y_val, X_train, y_train, k):\n",
    "    correct = 0\n",
    "    for xi, yi in zip(X_val, y_val):\n",
    "        pred = knn_predict(xi, X_train, y_train, k)\n",
    "        if pred == yi:\n",
    "            correct += 1\n",
    "    return correct / len(y_val)\n",
    "\n",
    "np.random.seed(45)\n",
    "indices = np.random.permutation(len(x))\n",
    "split = int(0.7 * len(x))\n",
    "train_idx = indices[:split]\n",
    "val_idx = indices[split:]\n",
    "X_train, y_train = x[train_idx], y[train_idx]\n",
    "X_val, y_val = x[val_idx], y[val_idx]\n",
    "\n",
    "k_candidates = range(1, 11)\n",
    "best_k = None\n",
    "best_acc = 0.0\n",
    "\n",
    "print(\"k값별 정확도:\")\n",
    "for k in k_candidates:\n",
    "    acc = compute_accuracy(X_val, y_val, X_train, y_train, k)\n",
    "    print(f\"k = {k} -> 정확도: {acc:.2f}\")\n",
    "    if acc > best_acc:\n",
    "        best_acc = acc\n",
    "        best_k = k\n",
    "\n",
    "print(f\"\\n최적의 k값은: {best_k} (정확도: {best_acc:.2f})\")\n",
    "\n",
    "best_k = 9\n",
    "X_full = iris.data[:130, [2, 3]]\n",
    "y_full = iris.target[:130]\n",
    "pred_130 = knn_predict(iris.data[130, [2, 3]], X_full, y_full, best_k)\n",
    "pred_131 = knn_predict(iris.data[131, [2, 3]], X_full, y_full, best_k)\n",
    "\n",
    "print(f\"130번째 데이터 예측값: {pred_130}, 실제값: {iris.target[130]}\")\n",
    "print(f\"131번째 데이터 예측값: {pred_131}, 실제값: {iris.target[131]}\")"
   ]
  }
 ],
 "metadata": {
  "kernelspec": {
   "display_name": "Python 3",
   "language": "python",
   "name": "python3"
  },
  "language_info": {
   "codemirror_mode": {
    "name": "ipython",
    "version": 3
   },
   "file_extension": ".py",
   "mimetype": "text/x-python",
   "name": "python",
   "nbconvert_exporter": "python",
   "pygments_lexer": "ipython3",
   "version": "3.10.16"
  }
 },
 "nbformat": 4,
 "nbformat_minor": 5
}
