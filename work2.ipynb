{
 "cells": [
  {
   "cell_type": "code",
   "execution_count": null,
   "id": "d24b617e",
   "metadata": {},
   "outputs": [],
   "source": [
    "import matplotlib.pyplot as plt\n",
    "import numpy as np\n",
    "import pandas as pd\n",
    "from sklearn.datasets import load_iris\n",
    "\n",
    "iris = load_iris()\n",
    "x = iris.data[:150, [2, 3]]\n",
    "y = iris.target[:150]\n",
    "\n",
    "df = pd.DataFrame(x, columns=[\"Sepal Length\", \"Sepal Width\"])\n",
    "df[\"Label\"] = y\n",
    "plt.figure(figsize=(8, 6))\n",
    "colors = ['red', 'green', 'blue']\n",
    "labels = iris.target_names\n",
    "\n",
    "for i in range(3):\n",
    "    subset = df[df[\"Label\"] == i]\n",
    "    plt.scatter(\n",
    "        subset[\"Sepal Length\"],\n",
    "        subset[\"Sepal Width\"],\n",
    "        color = colors[i],\n",
    "        label = labels[i],\n",
    "        alpha = 0.7,\n",
    "        edgecolors='k'\n",
    "    )\n",
    "\n",
    "plt.xlabel(\"Sepal Length (cm)\")\n",
    "plt.ylabel(\"Sepal Width (cm)\")\n",
    "plt.title(\"Iris (150개) - Sepal Length vs Width\")\n",
    "plt.legend()\n",
    "plt.grid(True)\n",
    "plt.tight_layout()\n",
    "plt.show()"
   ]
  }
 ],
 "metadata": {
  "language_info": {
   "name": "python"
  }
 },
 "nbformat": 4,
 "nbformat_minor": 5
}
